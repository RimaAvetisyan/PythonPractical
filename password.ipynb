{
 "cells": [
  {
   "cell_type": "code",
   "execution_count": null,
   "metadata": {},
   "outputs": [],
   "source": [
    "def password_check(password):\n",
    "    requirements = {\n",
    "        'numbers': '0123456789',\n",
    "        'lower_case': 'abcdefghijklmnopqrstuvwxyz',\n",
    "        'upper_case': 'ABCDEFGHIJKLMNOPQRSTUVWXYZ',\n",
    "        'special_characters': '!@#$%^&*()-+',\n",
    "    }\n",
    "\n",
    "    requirements_ok = set()\n",
    "\n",
    "    for sym in password:\n",
    "        for requirement, requirement_range in requirements.items():\n",
    "            if sym in requirement_range:\n",
    "                requirements_ok.add(requirement)\n",
    "\n",
    "    requirements_count = 0\n",
    "\n",
    "    not_found_requirements = []\n",
    "    for requirement in requirements:\n",
    "        if requirement not in requirements_ok:\n",
    "            not_found_requirements.append(requirement)\n",
    "\n",
    "    requirements_count = len(not_found_requirements)\n",
    "\n",
    "    return not_found_requirements, requirements_count\n",
    "\n",
    "def print_password_requirements(not_found_requirements, requirements_count):\n",
    "    requirement_messages = {\n",
    "        'numbers': 'number',\n",
    "        'lower_case': 'lower case',\n",
    "        'upper_case': 'upper case',\n",
    "        'special_characters': 'special character',\n",
    "    }\n",
    "\n",
    "    for not_found_requirement in not_found_requirements:\n",
    "        print('The password shoud contain at least one %s' % requirement_messages[not_found_requirement])\n",
    "\n",
    "    symbols_to_add = max(6 - len(password), requirements_count)\n",
    "    if symbols_to_add > 0:\n",
    "        print('Add %d symbols' % symbols_to_add)\n",
    "    else:\n",
    "        print('Your password is OK!') \n",
    "\n",
    "if __name__ == '__main__':\n",
    "    password = input()\n",
    "    not_found_requirements, requirements_count = password_check(password)\n",
    "    print_password_requirements(not_found_requirements, requirements_count)"
   ]
  }
 ],
 "metadata": {
  "kernelspec": {
   "display_name": "Python 3",
   "language": "python",
   "name": "python3"
  },
  "language_info": {
   "codemirror_mode": {
    "name": "ipython",
    "version": 3
   },
   "file_extension": ".py",
   "mimetype": "text/x-python",
   "name": "python",
   "nbconvert_exporter": "python",
   "pygments_lexer": "ipython3",
   "version": "3.7.6"
  }
 },
 "nbformat": 4,
 "nbformat_minor": 4
}
