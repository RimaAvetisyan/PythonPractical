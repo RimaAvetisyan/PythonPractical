{
 "cells": [
  {
   "cell_type": "code",
   "execution_count": 15,
   "id": "organic-bunch",
   "metadata": {},
   "outputs": [],
   "source": [
    "d = {'+37433022415': 'Murad', 1: 0.1}"
   ]
  },
  {
   "cell_type": "code",
   "execution_count": 46,
   "id": "married-citation",
   "metadata": {},
   "outputs": [
    {
     "name": "stdout",
     "output_type": "stream",
     "text": [
      "False\n"
     ]
    }
   ],
   "source": [
    "0.1 in d.values()\n",
    "print(isinstance(d.values(), list))"
   ]
  },
  {
   "cell_type": "code",
   "execution_count": 18,
   "id": "fatty-bradley",
   "metadata": {},
   "outputs": [
    {
     "data": {
      "text/plain": [
       "False"
      ]
     },
     "execution_count": 18,
     "metadata": {},
     "output_type": "execute_result"
    }
   ],
   "source": [
    "2 in d"
   ]
  },
  {
   "cell_type": "code",
   "execution_count": 28,
   "id": "crucial-today",
   "metadata": {},
   "outputs": [],
   "source": [
    "s = {1, 2, 3, 10, 2, 6}"
   ]
  },
  {
   "cell_type": "code",
   "execution_count": 31,
   "id": "serial-airplane",
   "metadata": {},
   "outputs": [
    {
     "data": {
      "text/plain": [
       "{1, 2, 3, 6, 10}"
      ]
     },
     "execution_count": 31,
     "metadata": {},
     "output_type": "execute_result"
    }
   ],
   "source": [
    "s"
   ]
  },
  {
   "cell_type": "code",
   "execution_count": 42,
   "id": "macro-baker",
   "metadata": {},
   "outputs": [
    {
     "data": {
      "text/plain": [
       "True"
      ]
     },
     "execution_count": 42,
     "metadata": {},
     "output_type": "execute_result"
    }
   ],
   "source": [
    "1 in s"
   ]
  },
  {
   "cell_type": "code",
   "execution_count": 21,
   "id": "meaning-mauritius",
   "metadata": {},
   "outputs": [],
   "source": [
    "l = [1, 2, 3]"
   ]
  },
  {
   "cell_type": "code",
   "execution_count": 22,
   "id": "minor-gilbert",
   "metadata": {},
   "outputs": [
    {
     "data": {
      "text/plain": [
       "True"
      ]
     },
     "execution_count": 22,
     "metadata": {},
     "output_type": "execute_result"
    }
   ],
   "source": [
    "1 in l"
   ]
  },
  {
   "cell_type": "code",
   "execution_count": null,
   "id": "characteristic-consultancy",
   "metadata": {},
   "outputs": [],
   "source": [
    "O(f(x)) = {exist C > 0: g(x) | g(x) <= C * f(x)}"
   ]
  },
  {
   "cell_type": "code",
   "execution_count": 41,
   "id": "imposed-suffering",
   "metadata": {},
   "outputs": [
    {
     "data": {
      "text/plain": [
       "253642731013506336"
      ]
     },
     "execution_count": 41,
     "metadata": {},
     "output_type": "execute_result"
    }
   ],
   "source": [
    "hash(0.11)"
   ]
  },
  {
   "cell_type": "code",
   "execution_count": null,
   "id": "collective-swift",
   "metadata": {},
   "outputs": [],
   "source": [
    "l = [1, 2, 3]\n",
    "l.append(4)"
   ]
  },
  {
   "cell_type": "code",
   "execution_count": null,
   "id": "frank-water",
   "metadata": {},
   "outputs": [],
   "source": [
    "0x0ab3 = [value=1, next=0x009a4, prev=None]; 0x009a4 = [value=2, next=0x00ab4, prev=0x0ab3]; 0x00ab4 = [value=3, next=None, prev=0x009a4]"
   ]
  },
  {
   "cell_type": "code",
   "execution_count": 47,
   "id": "elementary-license",
   "metadata": {},
   "outputs": [],
   "source": [
    "t = (1, 2, 3, 4, 45, 6, 7, 8)"
   ]
  },
  {
   "cell_type": "code",
   "execution_count": 50,
   "id": "controlling-pipeline",
   "metadata": {},
   "outputs": [
    {
     "data": {
      "text/plain": [
       "15"
      ]
     },
     "execution_count": 50,
     "metadata": {},
     "output_type": "execute_result"
    }
   ],
   "source": [
    "l = [1, 2, 3, 4, 5]\n",
    "sum(l)  # sum of iterable object\n",
    "\n",
    "t = (1, 2, 3, 4, 5)\n",
    "sum(t)  # sum of iterable object"
   ]
  },
  {
   "cell_type": "code",
   "execution_count": 52,
   "id": "right-finish",
   "metadata": {},
   "outputs": [
    {
     "data": {
      "text/plain": [
       "tuple"
      ]
     },
     "execution_count": 52,
     "metadata": {},
     "output_type": "execute_result"
    }
   ],
   "source": [
    "t = (1,)\n",
    "type(t)"
   ]
  },
  {
   "cell_type": "code",
   "execution_count": 54,
   "id": "nutritional-parks",
   "metadata": {},
   "outputs": [
    {
     "data": {
      "text/plain": [
       "True"
      ]
     },
     "execution_count": 54,
     "metadata": {},
     "output_type": "execute_result"
    }
   ],
   "source": [
    "l = []\n",
    "not l"
   ]
  },
  {
   "cell_type": "code",
   "execution_count": 57,
   "id": "saving-intention",
   "metadata": {},
   "outputs": [
    {
     "data": {
      "text/plain": [
       "3.0"
      ]
     },
     "execution_count": 57,
     "metadata": {},
     "output_type": "execute_result"
    }
   ],
   "source": [
    "l = [1, 2, 3, 4, 5]\n",
    "sum(l) / len(l)"
   ]
  },
  {
   "cell_type": "code",
   "execution_count": 62,
   "id": "exotic-vertical",
   "metadata": {},
   "outputs": [
    {
     "name": "stdout",
     "output_type": "stream",
     "text": [
      "[1, 3, 4, 5]\n"
     ]
    },
    {
     "data": {
      "text/plain": [
       "[1, 3, 5]"
      ]
     },
     "execution_count": 62,
     "metadata": {},
     "output_type": "execute_result"
    }
   ],
   "source": [
    "l = [1, 2, 3, 4, 5]\n",
    "n = len(l) // 2  # n = 2\n",
    "l.pop(n - 1)\n",
    "print(l)\n",
    "l.pop(n)\n",
    "l"
   ]
  },
  {
   "cell_type": "code",
   "execution_count": 66,
   "id": "potential-example",
   "metadata": {
    "scrolled": true
   },
   "outputs": [
    {
     "name": "stdout",
     "output_type": "stream",
     "text": [
      "2\n"
     ]
    }
   ],
   "source": [
    "lst = [1, 2, 3, 4, 5, 6, 7]\n",
    "n=len(lst) // 2\n",
    "s=(lst[n-1]+lst[n]+lst[n+1]) /3\n",
    "lst. pop(n)\n",
    "n=len(lst) //2\n",
    "lst. pop(n)\n",
    "n=len(lst) //2\n",
    "lst. pop(n) \n",
    "print(n)\n",
    "lst. insert(n, s)"
   ]
  },
  {
   "cell_type": "code",
   "execution_count": 67,
   "id": "pressing-scratch",
   "metadata": {},
   "outputs": [
    {
     "data": {
      "text/plain": [
       "[1, 2, 4.0, 6, 7]"
      ]
     },
     "execution_count": 67,
     "metadata": {},
     "output_type": "execute_result"
    }
   ],
   "source": [
    "lst"
   ]
  },
  {
   "cell_type": "code",
   "execution_count": 70,
   "id": "technological-south",
   "metadata": {},
   "outputs": [
    {
     "data": {
      "text/plain": [
       "[1, 2.0, 6]"
      ]
     },
     "execution_count": 70,
     "metadata": {},
     "output_type": "execute_result"
    }
   ],
   "source": [
    "lst = [1, 1, 1, 1, 6]\n",
    "middle = len(lst) // 2\n",
    "lst[middle - 1: middle + 2] = [sum(lst) / len(lst)]\n",
    "lst"
   ]
  },
  {
   "cell_type": "code",
   "execution_count": 73,
   "id": "agricultural-bridge",
   "metadata": {},
   "outputs": [
    {
     "data": {
      "text/plain": [
       "{1: 1, 2: 2, 3: 3, 4: 4}"
      ]
     },
     "execution_count": 73,
     "metadata": {},
     "output_type": "execute_result"
    }
   ],
   "source": [
    "d = {1: 3, 2: 2, 3: 3, 4: 1}\n",
    "3"
   ]
  },
  {
   "cell_type": "code",
   "execution_count": null,
   "id": "endangered-piano",
   "metadata": {},
   "outputs": [],
   "source": []
  }
 ],
 "metadata": {
  "kernelspec": {
   "display_name": "Python 3",
   "language": "python",
   "name": "python3"
  },
  "language_info": {
   "codemirror_mode": {
    "name": "ipython",
    "version": 3
   },
   "file_extension": ".py",
   "mimetype": "text/x-python",
   "name": "python",
   "nbconvert_exporter": "python",
   "pygments_lexer": "ipython3",
   "version": "3.9.6"
  }
 },
 "nbformat": 4,
 "nbformat_minor": 5
}
