{
 "cells": [
  {
   "cell_type": "code",
   "execution_count": null,
   "metadata": {},
   "outputs": [],
   "source": [
    "n = int(input())\n",
    "\n",
    "boutiques = []\n",
    "for _ in range(n):\n",
    "    boutiques.append(input())\n",
    "\n",
    "# O(n) complexity\n",
    "\n",
    "boutique_counts = {}\n",
    "for boutique in boutiques:\n",
    "    if boutique in boutique_counts:\n",
    "        boutique_counts[boutique] += 1\n",
    "    else:\n",
    "        boutique_counts[boutique] = 1\n",
    "\n",
    "count = 0\n",
    "for boutique_count in boutique_counts.values():\n",
    "    count += boutique_count - 1\n",
    "\n",
    "print(count)\n",
    "\n",
    "exit()\n",
    "\n",
    "# O(n^2) complexity\n",
    "\n",
    "count = 0\n",
    "for i, boutique in enumerate(boutiques):\n",
    "    for j in range(i + 1, n):\n",
    "        if boutiques[j] is not None:\n",
    "            if boutiques[i] == boutiques[j]:\n",
    "                count += 1\n",
    "                boutiques[j] = None\n",
    "\n",
    "print(count)"
   ]
  }
 ],
 "metadata": {
  "kernelspec": {
   "display_name": "Python 3",
   "language": "python",
   "name": "python3"
  },
  "language_info": {
   "codemirror_mode": {
    "name": "ipython",
    "version": 3
   },
   "file_extension": ".py",
   "mimetype": "text/x-python",
   "name": "python",
   "nbconvert_exporter": "python",
   "pygments_lexer": "ipython3",
   "version": "3.7.6"
  }
 },
 "nbformat": 4,
 "nbformat_minor": 4
}
