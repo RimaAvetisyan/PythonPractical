{
 "cells": [
  {
   "cell_type": "code",
   "execution_count": null,
   "metadata": {},
   "outputs": [],
   "source": [
    "def add_borders(l):\n",
    "    new_list = []\n",
    "    borders = '*' * (len(l) + 2)\n",
    "    new_list.(borders)\n",
    "    for s in l:\n",
    "        new_list.append('*' + s + '*')\n",
    "    new_list.append(borders)\n",
    "    return new_list\n",
    "\n",
    "\n",
    "borders = add_borders(['abc', 'dec', 'def'])\n",
    "for s in borders:\n",
    "    print(s)\n"
   ]
  }
 ],
 "metadata": {
  "kernelspec": {
   "display_name": "Python 3",
   "language": "python",
   "name": "python3"
  },
  "language_info": {
   "codemirror_mode": {
    "name": "ipython",
    "version": 3
   },
   "file_extension": ".py",
   "mimetype": "text/x-python",
   "name": "python",
   "nbconvert_exporter": "python",
   "pygments_lexer": "ipython3",
   "version": "3.7.6"
  }
 },
 "nbformat": 4,
 "nbformat_minor": 4
}
